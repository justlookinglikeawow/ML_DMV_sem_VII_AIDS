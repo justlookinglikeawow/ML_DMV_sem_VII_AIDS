{
 "cells": [
  {
   "cell_type": "code",
   "execution_count": 1,
   "id": "5245c8ae",
   "metadata": {
    "execution": {
     "iopub.execute_input": "2023-07-04T19:04:33.399792Z",
     "iopub.status.busy": "2023-07-04T19:04:33.398822Z",
     "iopub.status.idle": "2023-07-04T19:04:50.610155Z",
     "shell.execute_reply": "2023-07-04T19:04:50.608919Z"
    },
    "papermill": {
     "duration": 17.225669,
     "end_time": "2023-07-04T19:04:50.613217",
     "exception": false,
     "start_time": "2023-07-04T19:04:33.387548",
     "status": "completed"
    },
    "tags": []
   },
   "outputs": [],
   "source": [
    "import pandas as pd \n",
    "import numpy as np\n",
    "import matplotlib.pyplot as plt\n",
    "import plotly as py\n",
    "import chart_studio.plotly as py\n",
    "import seaborn as sns\n",
    "import plotly.express as px\n",
    "import plotly.graph_objs as go"
   ]
  },
  {
   "cell_type": "code",
   "execution_count": 3,
   "id": "14a9f046",
   "metadata": {
    "execution": {
     "iopub.execute_input": "2023-07-04T19:04:50.636834Z",
     "iopub.status.busy": "2023-07-04T19:04:50.636179Z",
     "iopub.status.idle": "2023-07-04T19:04:50.801255Z",
     "shell.execute_reply": "2023-07-04T19:04:50.800147Z"
    },
    "papermill": {
     "duration": 0.179942,
     "end_time": "2023-07-04T19:04:50.803894",
     "exception": false,
     "start_time": "2023-07-04T19:04:50.623952",
     "status": "completed"
    },
    "tags": []
   },
   "outputs": [
    {
     "data": {
      "text/html": [
       "<div>\n",
       "<style scoped>\n",
       "    .dataframe tbody tr th:only-of-type {\n",
       "        vertical-align: middle;\n",
       "    }\n",
       "\n",
       "    .dataframe tbody tr th {\n",
       "        vertical-align: top;\n",
       "    }\n",
       "\n",
       "    .dataframe thead th {\n",
       "        text-align: right;\n",
       "    }\n",
       "</style>\n",
       "<table border=\"1\" class=\"dataframe\">\n",
       "  <thead>\n",
       "    <tr style=\"text-align: right;\">\n",
       "      <th></th>\n",
       "      <th>City</th>\n",
       "      <th>Date</th>\n",
       "      <th>PM2.5</th>\n",
       "      <th>PM10</th>\n",
       "      <th>NO</th>\n",
       "      <th>NO2</th>\n",
       "      <th>NOx</th>\n",
       "      <th>NH3</th>\n",
       "      <th>CO</th>\n",
       "      <th>SO2</th>\n",
       "      <th>O3</th>\n",
       "      <th>Benzene</th>\n",
       "      <th>Toluene</th>\n",
       "      <th>Xylene</th>\n",
       "      <th>AQI</th>\n",
       "      <th>AQI_Bucket</th>\n",
       "    </tr>\n",
       "  </thead>\n",
       "  <tbody>\n",
       "    <tr>\n",
       "      <th>0</th>\n",
       "      <td>Ahmedabad</td>\n",
       "      <td>2015-01-01</td>\n",
       "      <td>NaN</td>\n",
       "      <td>NaN</td>\n",
       "      <td>0.92</td>\n",
       "      <td>18.22</td>\n",
       "      <td>17.15</td>\n",
       "      <td>NaN</td>\n",
       "      <td>0.92</td>\n",
       "      <td>27.64</td>\n",
       "      <td>133.36</td>\n",
       "      <td>0.00</td>\n",
       "      <td>0.02</td>\n",
       "      <td>0.00</td>\n",
       "      <td>NaN</td>\n",
       "      <td>NaN</td>\n",
       "    </tr>\n",
       "    <tr>\n",
       "      <th>1</th>\n",
       "      <td>Ahmedabad</td>\n",
       "      <td>2015-01-02</td>\n",
       "      <td>NaN</td>\n",
       "      <td>NaN</td>\n",
       "      <td>0.97</td>\n",
       "      <td>15.69</td>\n",
       "      <td>16.46</td>\n",
       "      <td>NaN</td>\n",
       "      <td>0.97</td>\n",
       "      <td>24.55</td>\n",
       "      <td>34.06</td>\n",
       "      <td>3.68</td>\n",
       "      <td>5.50</td>\n",
       "      <td>3.77</td>\n",
       "      <td>NaN</td>\n",
       "      <td>NaN</td>\n",
       "    </tr>\n",
       "    <tr>\n",
       "      <th>2</th>\n",
       "      <td>Ahmedabad</td>\n",
       "      <td>2015-01-03</td>\n",
       "      <td>NaN</td>\n",
       "      <td>NaN</td>\n",
       "      <td>17.40</td>\n",
       "      <td>19.30</td>\n",
       "      <td>29.70</td>\n",
       "      <td>NaN</td>\n",
       "      <td>17.40</td>\n",
       "      <td>29.07</td>\n",
       "      <td>30.70</td>\n",
       "      <td>6.80</td>\n",
       "      <td>16.40</td>\n",
       "      <td>2.25</td>\n",
       "      <td>NaN</td>\n",
       "      <td>NaN</td>\n",
       "    </tr>\n",
       "    <tr>\n",
       "      <th>3</th>\n",
       "      <td>Ahmedabad</td>\n",
       "      <td>2015-01-04</td>\n",
       "      <td>NaN</td>\n",
       "      <td>NaN</td>\n",
       "      <td>1.70</td>\n",
       "      <td>18.48</td>\n",
       "      <td>17.97</td>\n",
       "      <td>NaN</td>\n",
       "      <td>1.70</td>\n",
       "      <td>18.59</td>\n",
       "      <td>36.08</td>\n",
       "      <td>4.43</td>\n",
       "      <td>10.14</td>\n",
       "      <td>1.00</td>\n",
       "      <td>NaN</td>\n",
       "      <td>NaN</td>\n",
       "    </tr>\n",
       "    <tr>\n",
       "      <th>4</th>\n",
       "      <td>Ahmedabad</td>\n",
       "      <td>2015-01-05</td>\n",
       "      <td>NaN</td>\n",
       "      <td>NaN</td>\n",
       "      <td>22.10</td>\n",
       "      <td>21.42</td>\n",
       "      <td>37.76</td>\n",
       "      <td>NaN</td>\n",
       "      <td>22.10</td>\n",
       "      <td>39.33</td>\n",
       "      <td>39.31</td>\n",
       "      <td>7.01</td>\n",
       "      <td>18.89</td>\n",
       "      <td>2.78</td>\n",
       "      <td>NaN</td>\n",
       "      <td>NaN</td>\n",
       "    </tr>\n",
       "    <tr>\n",
       "      <th>...</th>\n",
       "      <td>...</td>\n",
       "      <td>...</td>\n",
       "      <td>...</td>\n",
       "      <td>...</td>\n",
       "      <td>...</td>\n",
       "      <td>...</td>\n",
       "      <td>...</td>\n",
       "      <td>...</td>\n",
       "      <td>...</td>\n",
       "      <td>...</td>\n",
       "      <td>...</td>\n",
       "      <td>...</td>\n",
       "      <td>...</td>\n",
       "      <td>...</td>\n",
       "      <td>...</td>\n",
       "      <td>...</td>\n",
       "    </tr>\n",
       "    <tr>\n",
       "      <th>29526</th>\n",
       "      <td>Visakhapatnam</td>\n",
       "      <td>2020-06-27</td>\n",
       "      <td>15.02</td>\n",
       "      <td>50.94</td>\n",
       "      <td>7.68</td>\n",
       "      <td>25.06</td>\n",
       "      <td>19.54</td>\n",
       "      <td>12.47</td>\n",
       "      <td>0.47</td>\n",
       "      <td>8.55</td>\n",
       "      <td>23.30</td>\n",
       "      <td>2.24</td>\n",
       "      <td>12.07</td>\n",
       "      <td>0.73</td>\n",
       "      <td>41.0</td>\n",
       "      <td>Good</td>\n",
       "    </tr>\n",
       "    <tr>\n",
       "      <th>29527</th>\n",
       "      <td>Visakhapatnam</td>\n",
       "      <td>2020-06-28</td>\n",
       "      <td>24.38</td>\n",
       "      <td>74.09</td>\n",
       "      <td>3.42</td>\n",
       "      <td>26.06</td>\n",
       "      <td>16.53</td>\n",
       "      <td>11.99</td>\n",
       "      <td>0.52</td>\n",
       "      <td>12.72</td>\n",
       "      <td>30.14</td>\n",
       "      <td>0.74</td>\n",
       "      <td>2.21</td>\n",
       "      <td>0.38</td>\n",
       "      <td>70.0</td>\n",
       "      <td>Satisfactory</td>\n",
       "    </tr>\n",
       "    <tr>\n",
       "      <th>29528</th>\n",
       "      <td>Visakhapatnam</td>\n",
       "      <td>2020-06-29</td>\n",
       "      <td>22.91</td>\n",
       "      <td>65.73</td>\n",
       "      <td>3.45</td>\n",
       "      <td>29.53</td>\n",
       "      <td>18.33</td>\n",
       "      <td>10.71</td>\n",
       "      <td>0.48</td>\n",
       "      <td>8.42</td>\n",
       "      <td>30.96</td>\n",
       "      <td>0.01</td>\n",
       "      <td>0.01</td>\n",
       "      <td>0.00</td>\n",
       "      <td>68.0</td>\n",
       "      <td>Satisfactory</td>\n",
       "    </tr>\n",
       "    <tr>\n",
       "      <th>29529</th>\n",
       "      <td>Visakhapatnam</td>\n",
       "      <td>2020-06-30</td>\n",
       "      <td>16.64</td>\n",
       "      <td>49.97</td>\n",
       "      <td>4.05</td>\n",
       "      <td>29.26</td>\n",
       "      <td>18.80</td>\n",
       "      <td>10.03</td>\n",
       "      <td>0.52</td>\n",
       "      <td>9.84</td>\n",
       "      <td>28.30</td>\n",
       "      <td>0.00</td>\n",
       "      <td>0.00</td>\n",
       "      <td>0.00</td>\n",
       "      <td>54.0</td>\n",
       "      <td>Satisfactory</td>\n",
       "    </tr>\n",
       "    <tr>\n",
       "      <th>29530</th>\n",
       "      <td>Visakhapatnam</td>\n",
       "      <td>2020-07-01</td>\n",
       "      <td>15.00</td>\n",
       "      <td>66.00</td>\n",
       "      <td>0.40</td>\n",
       "      <td>26.85</td>\n",
       "      <td>14.05</td>\n",
       "      <td>5.20</td>\n",
       "      <td>0.59</td>\n",
       "      <td>2.10</td>\n",
       "      <td>17.05</td>\n",
       "      <td>NaN</td>\n",
       "      <td>NaN</td>\n",
       "      <td>NaN</td>\n",
       "      <td>50.0</td>\n",
       "      <td>Good</td>\n",
       "    </tr>\n",
       "  </tbody>\n",
       "</table>\n",
       "<p>29531 rows × 16 columns</p>\n",
       "</div>"
      ],
      "text/plain": [
       "                City        Date  PM2.5   PM10     NO    NO2    NOx    NH3   \n",
       "0          Ahmedabad  2015-01-01    NaN    NaN   0.92  18.22  17.15    NaN  \\\n",
       "1          Ahmedabad  2015-01-02    NaN    NaN   0.97  15.69  16.46    NaN   \n",
       "2          Ahmedabad  2015-01-03    NaN    NaN  17.40  19.30  29.70    NaN   \n",
       "3          Ahmedabad  2015-01-04    NaN    NaN   1.70  18.48  17.97    NaN   \n",
       "4          Ahmedabad  2015-01-05    NaN    NaN  22.10  21.42  37.76    NaN   \n",
       "...              ...         ...    ...    ...    ...    ...    ...    ...   \n",
       "29526  Visakhapatnam  2020-06-27  15.02  50.94   7.68  25.06  19.54  12.47   \n",
       "29527  Visakhapatnam  2020-06-28  24.38  74.09   3.42  26.06  16.53  11.99   \n",
       "29528  Visakhapatnam  2020-06-29  22.91  65.73   3.45  29.53  18.33  10.71   \n",
       "29529  Visakhapatnam  2020-06-30  16.64  49.97   4.05  29.26  18.80  10.03   \n",
       "29530  Visakhapatnam  2020-07-01  15.00  66.00   0.40  26.85  14.05   5.20   \n",
       "\n",
       "          CO    SO2      O3  Benzene  Toluene  Xylene   AQI    AQI_Bucket  \n",
       "0       0.92  27.64  133.36     0.00     0.02    0.00   NaN           NaN  \n",
       "1       0.97  24.55   34.06     3.68     5.50    3.77   NaN           NaN  \n",
       "2      17.40  29.07   30.70     6.80    16.40    2.25   NaN           NaN  \n",
       "3       1.70  18.59   36.08     4.43    10.14    1.00   NaN           NaN  \n",
       "4      22.10  39.33   39.31     7.01    18.89    2.78   NaN           NaN  \n",
       "...      ...    ...     ...      ...      ...     ...   ...           ...  \n",
       "29526   0.47   8.55   23.30     2.24    12.07    0.73  41.0          Good  \n",
       "29527   0.52  12.72   30.14     0.74     2.21    0.38  70.0  Satisfactory  \n",
       "29528   0.48   8.42   30.96     0.01     0.01    0.00  68.0  Satisfactory  \n",
       "29529   0.52   9.84   28.30     0.00     0.00    0.00  54.0  Satisfactory  \n",
       "29530   0.59   2.10   17.05      NaN      NaN     NaN  50.0          Good  \n",
       "\n",
       "[29531 rows x 16 columns]"
      ]
     },
     "execution_count": 3,
     "metadata": {},
     "output_type": "execute_result"
    }
   ],
   "source": [
    "data = pd.read_csv(\"C:/Users/vaishnavi/OneDrive/Documents/AA engg/AA Practicals 7th Sem/collegeWork/CL1/DMV practical/assignment 5/city_day.csv\")\n",
    "data"
   ]
  },
  {
   "cell_type": "code",
   "execution_count": 4,
   "id": "355accc7",
   "metadata": {
    "execution": {
     "iopub.execute_input": "2023-07-04T19:04:50.850230Z",
     "iopub.status.busy": "2023-07-04T19:04:50.849529Z",
     "iopub.status.idle": "2023-07-04T19:04:50.959245Z",
     "shell.execute_reply": "2023-07-04T19:04:50.958138Z"
    },
    "papermill": {
     "duration": 0.125282,
     "end_time": "2023-07-04T19:04:50.962089",
     "exception": false,
     "start_time": "2023-07-04T19:04:50.836807",
     "status": "completed"
    },
    "tags": []
   },
   "outputs": [
    {
     "name": "stdout",
     "output_type": "stream",
     "text": [
      "Number of rows: 29531\n",
      "Number of columns: 16\n",
      "Column names: Index(['City', 'Date', 'PM2.5', 'PM10', 'NO', 'NO2', 'NOx', 'NH3', 'CO', 'SO2',\n",
      "       'O3', 'Benzene', 'Toluene', 'Xylene', 'AQI', 'AQI_Bucket'],\n",
      "      dtype='object')\n",
      "<class 'pandas.core.frame.DataFrame'>\n",
      "RangeIndex: 29531 entries, 0 to 29530\n",
      "Data columns (total 16 columns):\n",
      " #   Column      Non-Null Count  Dtype  \n",
      "---  ------      --------------  -----  \n",
      " 0   City        29531 non-null  object \n",
      " 1   Date        29531 non-null  object \n",
      " 2   PM2.5       24933 non-null  float64\n",
      " 3   PM10        18391 non-null  float64\n",
      " 4   NO          25949 non-null  float64\n",
      " 5   NO2         25946 non-null  float64\n",
      " 6   NOx         25346 non-null  float64\n",
      " 7   NH3         19203 non-null  float64\n",
      " 8   CO          27472 non-null  float64\n",
      " 9   SO2         25677 non-null  float64\n",
      " 10  O3          25509 non-null  float64\n",
      " 11  Benzene     23908 non-null  float64\n",
      " 12  Toluene     21490 non-null  float64\n",
      " 13  Xylene      11422 non-null  float64\n",
      " 14  AQI         24850 non-null  float64\n",
      " 15  AQI_Bucket  24850 non-null  object \n",
      "dtypes: float64(13), object(3)\n",
      "memory usage: 3.6+ MB\n",
      "None\n",
      "              PM2.5          PM10            NO           NO2           NOx   \n",
      "count  24933.000000  18391.000000  25949.000000  25946.000000  25346.000000  \\\n",
      "mean      67.450578    118.127103     17.574730     28.560659     32.309123   \n",
      "std       64.661449     90.605110     22.785846     24.474746     31.646011   \n",
      "min        0.040000      0.010000      0.020000      0.010000      0.000000   \n",
      "25%       28.820000     56.255000      5.630000     11.750000     12.820000   \n",
      "50%       48.570000     95.680000      9.890000     21.690000     23.520000   \n",
      "75%       80.590000    149.745000     19.950000     37.620000     40.127500   \n",
      "max      949.990000   1000.000000    390.680000    362.210000    467.630000   \n",
      "\n",
      "                NH3            CO           SO2            O3       Benzene   \n",
      "count  19203.000000  27472.000000  25677.000000  25509.000000  23908.000000  \\\n",
      "mean      23.483476      2.248598     14.531977     34.491430      3.280840   \n",
      "std       25.684275      6.962884     18.133775     21.694928     15.811136   \n",
      "min        0.010000      0.000000      0.010000      0.010000      0.000000   \n",
      "25%        8.580000      0.510000      5.670000     18.860000      0.120000   \n",
      "50%       15.850000      0.890000      9.160000     30.840000      1.070000   \n",
      "75%       30.020000      1.450000     15.220000     45.570000      3.080000   \n",
      "max      352.890000    175.810000    193.860000    257.730000    455.030000   \n",
      "\n",
      "            Toluene        Xylene           AQI  \n",
      "count  21490.000000  11422.000000  24850.000000  \n",
      "mean       8.700972      3.070128    166.463581  \n",
      "std       19.969164      6.323247    140.696585  \n",
      "min        0.000000      0.000000     13.000000  \n",
      "25%        0.600000      0.140000     81.000000  \n",
      "50%        2.970000      0.980000    118.000000  \n",
      "75%        9.150000      3.350000    208.000000  \n",
      "max      454.850000    170.370000   2049.000000  \n"
     ]
    }
   ],
   "source": [
    "\n",
    "print(\"Number of rows:\", data.shape[0])\n",
    "print(\"Number of columns:\", data.shape[1])\n",
    "\n",
    "\n",
    "print(\"Column names:\", data.columns)\n",
    "\n",
    "\n",
    "print(data.info())\n",
    "\n",
    "print(data.describe())"
   ]
  },
  {
   "cell_type": "code",
   "execution_count": 5,
   "id": "eab2e6af",
   "metadata": {
    "execution": {
     "iopub.execute_input": "2023-07-04T19:04:51.009138Z",
     "iopub.status.busy": "2023-07-04T19:04:51.008483Z",
     "iopub.status.idle": "2023-07-04T19:04:51.032096Z",
     "shell.execute_reply": "2023-07-04T19:04:51.031016Z"
    },
    "papermill": {
     "duration": 0.039202,
     "end_time": "2023-07-04T19:04:51.034676",
     "exception": false,
     "start_time": "2023-07-04T19:04:50.995474",
     "status": "completed"
    },
    "tags": []
   },
   "outputs": [
    {
     "data": {
      "text/html": [
       "<div>\n",
       "<style scoped>\n",
       "    .dataframe tbody tr th:only-of-type {\n",
       "        vertical-align: middle;\n",
       "    }\n",
       "\n",
       "    .dataframe tbody tr th {\n",
       "        vertical-align: top;\n",
       "    }\n",
       "\n",
       "    .dataframe thead th {\n",
       "        text-align: right;\n",
       "    }\n",
       "</style>\n",
       "<table border=\"1\" class=\"dataframe\">\n",
       "  <thead>\n",
       "    <tr style=\"text-align: right;\">\n",
       "      <th></th>\n",
       "      <th>City</th>\n",
       "      <th>Date</th>\n",
       "      <th>PM2.5</th>\n",
       "      <th>PM10</th>\n",
       "      <th>NO</th>\n",
       "      <th>NO2</th>\n",
       "      <th>NOx</th>\n",
       "      <th>NH3</th>\n",
       "      <th>CO</th>\n",
       "      <th>SO2</th>\n",
       "      <th>O3</th>\n",
       "      <th>Benzene</th>\n",
       "      <th>Toluene</th>\n",
       "      <th>Xylene</th>\n",
       "      <th>AQI</th>\n",
       "      <th>AQI_Bucket</th>\n",
       "    </tr>\n",
       "  </thead>\n",
       "  <tbody>\n",
       "    <tr>\n",
       "      <th>0</th>\n",
       "      <td>Ahmedabad</td>\n",
       "      <td>2015-01-01</td>\n",
       "      <td>NaN</td>\n",
       "      <td>NaN</td>\n",
       "      <td>0.92</td>\n",
       "      <td>18.22</td>\n",
       "      <td>17.15</td>\n",
       "      <td>NaN</td>\n",
       "      <td>0.92</td>\n",
       "      <td>27.64</td>\n",
       "      <td>133.36</td>\n",
       "      <td>0.00</td>\n",
       "      <td>0.02</td>\n",
       "      <td>0.00</td>\n",
       "      <td>NaN</td>\n",
       "      <td>NaN</td>\n",
       "    </tr>\n",
       "    <tr>\n",
       "      <th>1</th>\n",
       "      <td>Ahmedabad</td>\n",
       "      <td>2015-01-02</td>\n",
       "      <td>NaN</td>\n",
       "      <td>NaN</td>\n",
       "      <td>0.97</td>\n",
       "      <td>15.69</td>\n",
       "      <td>16.46</td>\n",
       "      <td>NaN</td>\n",
       "      <td>0.97</td>\n",
       "      <td>24.55</td>\n",
       "      <td>34.06</td>\n",
       "      <td>3.68</td>\n",
       "      <td>5.50</td>\n",
       "      <td>3.77</td>\n",
       "      <td>NaN</td>\n",
       "      <td>NaN</td>\n",
       "    </tr>\n",
       "    <tr>\n",
       "      <th>2</th>\n",
       "      <td>Ahmedabad</td>\n",
       "      <td>2015-01-03</td>\n",
       "      <td>NaN</td>\n",
       "      <td>NaN</td>\n",
       "      <td>17.40</td>\n",
       "      <td>19.30</td>\n",
       "      <td>29.70</td>\n",
       "      <td>NaN</td>\n",
       "      <td>17.40</td>\n",
       "      <td>29.07</td>\n",
       "      <td>30.70</td>\n",
       "      <td>6.80</td>\n",
       "      <td>16.40</td>\n",
       "      <td>2.25</td>\n",
       "      <td>NaN</td>\n",
       "      <td>NaN</td>\n",
       "    </tr>\n",
       "    <tr>\n",
       "      <th>3</th>\n",
       "      <td>Ahmedabad</td>\n",
       "      <td>2015-01-04</td>\n",
       "      <td>NaN</td>\n",
       "      <td>NaN</td>\n",
       "      <td>1.70</td>\n",
       "      <td>18.48</td>\n",
       "      <td>17.97</td>\n",
       "      <td>NaN</td>\n",
       "      <td>1.70</td>\n",
       "      <td>18.59</td>\n",
       "      <td>36.08</td>\n",
       "      <td>4.43</td>\n",
       "      <td>10.14</td>\n",
       "      <td>1.00</td>\n",
       "      <td>NaN</td>\n",
       "      <td>NaN</td>\n",
       "    </tr>\n",
       "    <tr>\n",
       "      <th>4</th>\n",
       "      <td>Ahmedabad</td>\n",
       "      <td>2015-01-05</td>\n",
       "      <td>NaN</td>\n",
       "      <td>NaN</td>\n",
       "      <td>22.10</td>\n",
       "      <td>21.42</td>\n",
       "      <td>37.76</td>\n",
       "      <td>NaN</td>\n",
       "      <td>22.10</td>\n",
       "      <td>39.33</td>\n",
       "      <td>39.31</td>\n",
       "      <td>7.01</td>\n",
       "      <td>18.89</td>\n",
       "      <td>2.78</td>\n",
       "      <td>NaN</td>\n",
       "      <td>NaN</td>\n",
       "    </tr>\n",
       "  </tbody>\n",
       "</table>\n",
       "</div>"
      ],
      "text/plain": [
       "        City        Date  PM2.5  PM10     NO    NO2    NOx  NH3     CO    SO2   \n",
       "0  Ahmedabad  2015-01-01    NaN   NaN   0.92  18.22  17.15  NaN   0.92  27.64  \\\n",
       "1  Ahmedabad  2015-01-02    NaN   NaN   0.97  15.69  16.46  NaN   0.97  24.55   \n",
       "2  Ahmedabad  2015-01-03    NaN   NaN  17.40  19.30  29.70  NaN  17.40  29.07   \n",
       "3  Ahmedabad  2015-01-04    NaN   NaN   1.70  18.48  17.97  NaN   1.70  18.59   \n",
       "4  Ahmedabad  2015-01-05    NaN   NaN  22.10  21.42  37.76  NaN  22.10  39.33   \n",
       "\n",
       "       O3  Benzene  Toluene  Xylene  AQI AQI_Bucket  \n",
       "0  133.36     0.00     0.02    0.00  NaN        NaN  \n",
       "1   34.06     3.68     5.50    3.77  NaN        NaN  \n",
       "2   30.70     6.80    16.40    2.25  NaN        NaN  \n",
       "3   36.08     4.43    10.14    1.00  NaN        NaN  \n",
       "4   39.31     7.01    18.89    2.78  NaN        NaN  "
      ]
     },
     "execution_count": 5,
     "metadata": {},
     "output_type": "execute_result"
    }
   ],
   "source": [
    "data.head()"
   ]
  },
  {
   "cell_type": "code",
   "execution_count": 6,
   "id": "3ce9b17e",
   "metadata": {
    "execution": {
     "iopub.execute_input": "2023-07-04T19:04:51.061973Z",
     "iopub.status.busy": "2023-07-04T19:04:51.061130Z",
     "iopub.status.idle": "2023-07-04T19:04:51.069599Z",
     "shell.execute_reply": "2023-07-04T19:04:51.068557Z"
    },
    "papermill": {
     "duration": 0.024418,
     "end_time": "2023-07-04T19:04:51.071877",
     "exception": false,
     "start_time": "2023-07-04T19:04:51.047459",
     "status": "completed"
    },
    "tags": []
   },
   "outputs": [
    {
     "name": "stdout",
     "output_type": "stream",
     "text": [
      "['Ahmedabad' 'Aizawl' 'Amaravati' 'Amritsar' 'Bengaluru' 'Bhopal'\n",
      " 'Brajrajnagar' 'Chandigarh' 'Chennai' 'Coimbatore' 'Delhi' 'Ernakulam'\n",
      " 'Gurugram' 'Guwahati' 'Hyderabad' 'Jaipur' 'Jorapokhar' 'Kochi' 'Kolkata'\n",
      " 'Lucknow' 'Mumbai' 'Patna' 'Shillong' 'Talcher' 'Thiruvananthapuram'\n",
      " 'Visakhapatnam']\n"
     ]
    }
   ],
   "source": [
    "print(data['City'].unique())"
   ]
  },
  {
   "cell_type": "code",
   "execution_count": 7,
   "id": "844735af",
   "metadata": {
    "execution": {
     "iopub.execute_input": "2023-07-04T19:04:51.120608Z",
     "iopub.status.busy": "2023-07-04T19:04:51.119874Z",
     "iopub.status.idle": "2023-07-04T19:04:51.163311Z",
     "shell.execute_reply": "2023-07-04T19:04:51.162188Z"
    },
    "papermill": {
     "duration": 0.060238,
     "end_time": "2023-07-04T19:04:51.166773",
     "exception": false,
     "start_time": "2023-07-04T19:04:51.106535",
     "status": "completed"
    },
    "tags": []
   },
   "outputs": [
    {
     "name": "stdout",
     "output_type": "stream",
     "text": [
      "Missing values:\n",
      " City              0\n",
      "Date              0\n",
      "PM2.5          4598\n",
      "PM10          11140\n",
      "NO             3582\n",
      "NO2            3585\n",
      "NOx            4185\n",
      "NH3           10328\n",
      "CO             2059\n",
      "SO2            3854\n",
      "O3             4022\n",
      "Benzene        5623\n",
      "Toluene        8041\n",
      "Xylene        18109\n",
      "AQI            4681\n",
      "AQI_Bucket     4681\n",
      "dtype: int64\n"
     ]
    }
   ],
   "source": [
    "print(\"Missing values:\\n\", data.isnull().sum())"
   ]
  },
  {
   "cell_type": "code",
   "execution_count": 8,
   "id": "0389376b",
   "metadata": {
    "execution": {
     "iopub.execute_input": "2023-07-04T19:04:51.204674Z",
     "iopub.status.busy": "2023-07-04T19:04:51.204280Z",
     "iopub.status.idle": "2023-07-04T19:04:51.242980Z",
     "shell.execute_reply": "2023-07-04T19:04:51.242127Z"
    },
    "papermill": {
     "duration": 0.059758,
     "end_time": "2023-07-04T19:04:51.245578",
     "exception": false,
     "start_time": "2023-07-04T19:04:51.185820",
     "status": "completed"
    },
    "tags": []
   },
   "outputs": [],
   "source": [
    "data_cleaned = data.dropna()"
   ]
  },
  {
   "cell_type": "code",
   "execution_count": 9,
   "id": "f2b9ce80",
   "metadata": {
    "execution": {
     "iopub.execute_input": "2023-07-04T19:04:51.271791Z",
     "iopub.status.busy": "2023-07-04T19:04:51.270736Z",
     "iopub.status.idle": "2023-07-04T19:04:51.307312Z",
     "shell.execute_reply": "2023-07-04T19:04:51.306049Z"
    },
    "papermill": {
     "duration": 0.052403,
     "end_time": "2023-07-04T19:04:51.310031",
     "exception": false,
     "start_time": "2023-07-04T19:04:51.257628",
     "status": "completed"
    },
    "tags": []
   },
   "outputs": [
    {
     "name": "stdout",
     "output_type": "stream",
     "text": [
      "Missing values:\n",
      " City              0\n",
      "Date              0\n",
      "PM2.5          4598\n",
      "PM10          11140\n",
      "NO             3582\n",
      "NO2            3585\n",
      "NOx            4185\n",
      "NH3           10328\n",
      "CO             2059\n",
      "SO2            3854\n",
      "O3             4022\n",
      "Benzene        5623\n",
      "Toluene        8041\n",
      "Xylene        18109\n",
      "AQI            4681\n",
      "AQI_Bucket     4681\n",
      "dtype: int64\n"
     ]
    }
   ],
   "source": [
    "print(\"Missing values:\\n\", data.isnull().sum())"
   ]
  },
  {
   "cell_type": "code",
   "execution_count": 10,
   "id": "ffe5b05a",
   "metadata": {
    "execution": {
     "iopub.execute_input": "2023-07-04T19:04:51.336404Z",
     "iopub.status.busy": "2023-07-04T19:04:51.335958Z",
     "iopub.status.idle": "2023-07-04T19:04:51.358136Z",
     "shell.execute_reply": "2023-07-04T19:04:51.356816Z"
    },
    "papermill": {
     "duration": 0.039047,
     "end_time": "2023-07-04T19:04:51.361162",
     "exception": false,
     "start_time": "2023-07-04T19:04:51.322115",
     "status": "completed"
    },
    "tags": []
   },
   "outputs": [],
   "source": [
    "data['PM2.5'].fillna(data['PM2.5'].mean().round(2),inplace = True )\n",
    "data['PM10'].fillna(data['PM10'].mean().round(2),inplace = True )\n",
    "data['NO'].fillna(data['NO'].mean().round(2),inplace = True )\n",
    "data['NO2'].fillna(data['NO2'].mean().round(2),inplace = True )\n",
    "data['NOx'].fillna(data['NOx'].mean().round(2),inplace = True )\n",
    "data['NH3'].fillna(data['NH3'].mean().round(2),inplace = True )\n",
    "data['CO'].fillna(data['CO'].mean().round(2),inplace = True )\n",
    "data['SO2'].fillna(data['SO2'].mean().round(2),inplace = True )\n",
    "data['O3'].fillna(data['O3'].mean().round(2),inplace = True )\n",
    "data['Benzene'].fillna(data['Benzene'].mean().round(2),inplace = True )\n",
    "data['Toluene'].fillna(data['Toluene'].mean().round(2),inplace = True )\n",
    "data['Xylene'].fillna(data['Xylene'].mean().round(2),inplace = True )\n",
    "data['AQI'].fillna(data['AQI'].mean().round(2),inplace = True)"
   ]
  },
  {
   "cell_type": "code",
   "execution_count": 11,
   "id": "b65a0452",
   "metadata": {
    "execution": {
     "iopub.execute_input": "2023-07-04T19:04:51.387234Z",
     "iopub.status.busy": "2023-07-04T19:04:51.386554Z",
     "iopub.status.idle": "2023-07-04T19:04:51.426824Z",
     "shell.execute_reply": "2023-07-04T19:04:51.425687Z"
    },
    "papermill": {
     "duration": 0.056454,
     "end_time": "2023-07-04T19:04:51.429613",
     "exception": false,
     "start_time": "2023-07-04T19:04:51.373159",
     "status": "completed"
    },
    "tags": []
   },
   "outputs": [
    {
     "name": "stdout",
     "output_type": "stream",
     "text": [
      "<class 'pandas.core.frame.DataFrame'>\n",
      "RangeIndex: 29531 entries, 0 to 29530\n",
      "Data columns (total 16 columns):\n",
      " #   Column      Non-Null Count  Dtype  \n",
      "---  ------      --------------  -----  \n",
      " 0   City        29531 non-null  object \n",
      " 1   Date        29531 non-null  object \n",
      " 2   PM2.5       29531 non-null  float64\n",
      " 3   PM10        29531 non-null  float64\n",
      " 4   NO          29531 non-null  float64\n",
      " 5   NO2         29531 non-null  float64\n",
      " 6   NOx         29531 non-null  float64\n",
      " 7   NH3         29531 non-null  float64\n",
      " 8   CO          29531 non-null  float64\n",
      " 9   SO2         29531 non-null  float64\n",
      " 10  O3          29531 non-null  float64\n",
      " 11  Benzene     29531 non-null  float64\n",
      " 12  Toluene     29531 non-null  float64\n",
      " 13  Xylene      29531 non-null  float64\n",
      " 14  AQI         29531 non-null  float64\n",
      " 15  AQI_Bucket  24850 non-null  object \n",
      "dtypes: float64(13), object(3)\n",
      "memory usage: 3.6+ MB\n"
     ]
    }
   ],
   "source": [
    "data.info()"
   ]
  },
  {
   "cell_type": "code",
   "execution_count": 12,
   "id": "60750287",
   "metadata": {
    "execution": {
     "iopub.execute_input": "2023-07-04T19:04:51.455104Z",
     "iopub.status.busy": "2023-07-04T19:04:51.454652Z",
     "iopub.status.idle": "2023-07-04T19:04:51.473658Z",
     "shell.execute_reply": "2023-07-04T19:04:51.472267Z"
    },
    "papermill": {
     "duration": 0.034697,
     "end_time": "2023-07-04T19:04:51.476315",
     "exception": false,
     "start_time": "2023-07-04T19:04:51.441618",
     "status": "completed"
    },
    "tags": []
   },
   "outputs": [
    {
     "name": "stdout",
     "output_type": "stream",
     "text": [
      "Number of duplicate rows: 0\n"
     ]
    }
   ],
   "source": [
    "print(\"Number of duplicate rows:\", data_cleaned.duplicated().sum())"
   ]
  },
  {
   "cell_type": "code",
   "execution_count": 13,
   "id": "8e41bc4b",
   "metadata": {
    "execution": {
     "iopub.execute_input": "2023-07-04T19:04:51.527271Z",
     "iopub.status.busy": "2023-07-04T19:04:51.526461Z",
     "iopub.status.idle": "2023-07-04T19:04:51.544196Z",
     "shell.execute_reply": "2023-07-04T19:04:51.543318Z"
    },
    "papermill": {
     "duration": 0.034029,
     "end_time": "2023-07-04T19:04:51.546767",
     "exception": false,
     "start_time": "2023-07-04T19:04:51.512738",
     "status": "completed"
    },
    "tags": []
   },
   "outputs": [],
   "source": [
    "data['Date'] = pd.to_datetime(data['Date'], format='%Y-%m-%d')"
   ]
  },
  {
   "cell_type": "code",
   "execution_count": 14,
   "id": "63647694",
   "metadata": {
    "execution": {
     "iopub.execute_input": "2023-07-04T19:04:51.573446Z",
     "iopub.status.busy": "2023-07-04T19:04:51.572495Z",
     "iopub.status.idle": "2023-07-04T19:04:51.590616Z",
     "shell.execute_reply": "2023-07-04T19:04:51.589446Z"
    },
    "papermill": {
     "duration": 0.034212,
     "end_time": "2023-07-04T19:04:51.593356",
     "exception": false,
     "start_time": "2023-07-04T19:04:51.559144",
     "status": "completed"
    },
    "tags": []
   },
   "outputs": [],
   "source": [
    "data['Year'] = data['Date'].dt.year\n",
    "data['Month'] = data['Date'].dt.month\n",
    "data['Day'] = data['Date'].dt.day"
   ]
  },
  {
   "cell_type": "code",
   "execution_count": 15,
   "id": "c1b49b16",
   "metadata": {
    "execution": {
     "iopub.execute_input": "2023-07-04T19:04:51.642906Z",
     "iopub.status.busy": "2023-07-04T19:04:51.642488Z",
     "iopub.status.idle": "2023-07-04T19:04:51.982460Z",
     "shell.execute_reply": "2023-07-04T19:04:51.981344Z"
    },
    "papermill": {
     "duration": 0.355711,
     "end_time": "2023-07-04T19:04:51.984874",
     "exception": false,
     "start_time": "2023-07-04T19:04:51.629163",
     "status": "completed"
    },
    "tags": []
   },
   "outputs": [
    {
     "data": {
      "image/png": "[encoded data removed]",
      "text/plain": [
       "<Figure size 640x480 with 1 Axes>"
      ]
     },
     "metadata": {},
     "output_type": "display_data"
    }
   ],
   "source": [
    "plt.hist(data['PM2.5'], bins=20)\n",
    "plt.xlabel('PM2.5 Level')\n",
    "plt.ylabel('Frequency')\n",
    "plt.title('Distribution of PM2.5 Levels')\n",
    "plt.show()"
   ]
  },
  {
   "cell_type": "code",
   "execution_count": 16,
   "id": "fe2ccb38",
   "metadata": {
    "execution": {
     "iopub.execute_input": "2023-07-04T19:04:52.036644Z",
     "iopub.status.busy": "2023-07-04T19:04:52.035946Z",
     "iopub.status.idle": "2023-07-04T19:04:52.445667Z",
     "shell.execute_reply": "2023-07-04T19:04:52.444442Z"
    },
    "papermill": {
     "duration": 0.426079,
     "end_time": "2023-07-04T19:04:52.447999",
     "exception": false,
     "start_time": "2023-07-04T19:04:52.021920",
     "status": "completed"
    },
    "tags": []
   },
   "outputs": [
    {
     "data": {
      "image/png": "[encoded data removed]",
      "text/plain": [
       "<Figure size 640x480 with 1 Axes>"
      ]
     },
     "metadata": {},
     "output_type": "display_data"
    }
   ],
   "source": [
    "plt.plot(data['Date'], data['PM2.5'])\n",
    "plt.xlabel('Date')\n",
    "plt.ylabel('PM2.5 Level')\n",
    "plt.title('PM2.5 Levels over Time')\n",
    "plt.xticks(rotation=45)\n",
    "plt.show()"
   ]
  },
  {
   "cell_type": "code",
   "execution_count": 17,
   "id": "99199ccc",
   "metadata": {
    "execution": {
     "iopub.execute_input": "2023-07-04T19:04:52.502848Z",
     "iopub.status.busy": "2023-07-04T19:04:52.502394Z",
     "iopub.status.idle": "2023-07-04T19:04:52.829728Z",
     "shell.execute_reply": "2023-07-04T19:04:52.828605Z"
    },
    "papermill": {
     "duration": 0.344654,
     "end_time": "2023-07-04T19:04:52.832430",
     "exception": false,
     "start_time": "2023-07-04T19:04:52.487776",
     "status": "completed"
    },
    "tags": []
   },
   "outputs": [
    {
     "data": {
      "image/png": "[encoded data removed]",
      "text/plain": [
       "<Figure size 640x480 with 2 Axes>"
      ]
     },
     "metadata": {},
     "output_type": "display_data"
    }
   ],
   "source": [
    "correlation = data[['PM2.5', 'PM10', 'NO2', 'SO2', 'CO']].corr()\n",
    "sns.heatmap(correlation, annot=True)\n",
    "plt.title('Correlation between Pollutants')\n",
    "plt.show()"
   ]
  },
  {
   "cell_type": "code",
   "execution_count": 18,
   "id": "88f33854",
   "metadata": {
    "execution": {
     "iopub.execute_input": "2023-07-04T19:04:52.889834Z",
     "iopub.status.busy": "2023-07-04T19:04:52.889192Z",
     "iopub.status.idle": "2023-07-04T19:04:52.905686Z",
     "shell.execute_reply": "2023-07-04T19:04:52.904642Z"
    },
    "papermill": {
     "duration": 0.034265,
     "end_time": "2023-07-04T19:04:52.908410",
     "exception": false,
     "start_time": "2023-07-04T19:04:52.874145",
     "status": "completed"
    },
    "tags": []
   },
   "outputs": [],
   "source": [
    "data.loc[(data['AQI'] >= 0) & (data['AQI'] <= 50), 'AQI_Bucket'] = 'Good'\n",
    "data.loc[(data['AQI'] >= 51) & (data['AQI'] <= 100), 'AQI_Bucket'] = 'Satisfactory'\n",
    "data.loc[(data['AQI'] >= 101) & (data['AQI'] <= 200), 'AQI_Bucket'] = 'Moderate'\n",
    "data.loc[(data['AQI'] >= 201) & (data['AQI'] <= 300), 'AQI_Bucket'] = 'Poor'\n",
    "data.loc[(data['AQI'] >= 301) & (data['AQI'] <= 400), 'AQI_Bucket'] = 'Very poor'\n",
    "data.loc[(data['AQI'] >= 401) & (data['AQI'] <= 500), 'AQI_Bucket'] = 'Severe'"
   ]
  },
  {
   "cell_type": "code",
   "execution_count": 19,
   "id": "9454fa00",
   "metadata": {
    "execution": {
     "iopub.execute_input": "2023-07-04T19:04:52.938770Z",
     "iopub.status.busy": "2023-07-04T19:04:52.938398Z",
     "iopub.status.idle": "2023-07-04T19:04:52.971223Z",
     "shell.execute_reply": "2023-07-04T19:04:52.969961Z"
    },
    "papermill": {
     "duration": 0.05163,
     "end_time": "2023-07-04T19:04:52.974440",
     "exception": false,
     "start_time": "2023-07-04T19:04:52.922810",
     "status": "completed"
    },
    "tags": []
   },
   "outputs": [
    {
     "name": "stdout",
     "output_type": "stream",
     "text": [
      "<class 'pandas.core.frame.DataFrame'>\n",
      "RangeIndex: 29531 entries, 0 to 29530\n",
      "Data columns (total 19 columns):\n",
      " #   Column      Non-Null Count  Dtype         \n",
      "---  ------      --------------  -----         \n",
      " 0   City        29531 non-null  object        \n",
      " 1   Date        29531 non-null  datetime64[ns]\n",
      " 2   PM2.5       29531 non-null  float64       \n",
      " 3   PM10        29531 non-null  float64       \n",
      " 4   NO          29531 non-null  float64       \n",
      " 5   NO2         29531 non-null  float64       \n",
      " 6   NOx         29531 non-null  float64       \n",
      " 7   NH3         29531 non-null  float64       \n",
      " 8   CO          29531 non-null  float64       \n",
      " 9   SO2         29531 non-null  float64       \n",
      " 10  O3          29531 non-null  float64       \n",
      " 11  Benzene     29531 non-null  float64       \n",
      " 12  Toluene     29531 non-null  float64       \n",
      " 13  Xylene      29531 non-null  float64       \n",
      " 14  AQI         29531 non-null  float64       \n",
      " 15  AQI_Bucket  29531 non-null  object        \n",
      " 16  Year        29531 non-null  int32         \n",
      " 17  Month       29531 non-null  int32         \n",
      " 18  Day         29531 non-null  int32         \n",
      "dtypes: datetime64[ns](1), float64(13), int32(3), object(2)\n",
      "memory usage: 3.9+ MB\n"
     ]
    }
   ],
   "source": [
    "data.info()"
   ]
  },
  {
   "cell_type": "code",
   "execution_count": 20,
   "id": "822892e8",
   "metadata": {
    "execution": {
     "iopub.execute_input": "2023-07-04T19:04:53.033337Z",
     "iopub.status.busy": "2023-07-04T19:04:53.032594Z",
     "iopub.status.idle": "2023-07-04T19:04:53.636603Z",
     "shell.execute_reply": "2023-07-04T19:04:53.635418Z"
    },
    "papermill": {
     "duration": 0.622216,
     "end_time": "2023-07-04T19:04:53.639179",
     "exception": false,
     "start_time": "2023-07-04T19:04:53.016963",
     "status": "completed"
    },
    "tags": []
   },
   "outputs": [
    {
     "data": {
      "image/png": "[encoded data removed]",
      "text/plain": [
       "<Figure size 500x500 with 1 Axes>"
      ]
     },
     "metadata": {},
     "output_type": "display_data"
    }
   ],
   "source": [
    "plot = sns.catplot(x=\"AQI_Bucket\",data=data,kind=\"count\")"
   ]
  },
  {
   "cell_type": "code",
   "execution_count": 21,
   "id": "8d245c64",
   "metadata": {
    "execution": {
     "iopub.execute_input": "2023-07-04T19:04:53.699887Z",
     "iopub.status.busy": "2023-07-04T19:04:53.699493Z",
     "iopub.status.idle": "2023-07-04T19:04:53.714706Z",
     "shell.execute_reply": "2023-07-04T19:04:53.713211Z"
    },
    "papermill": {
     "duration": 0.034092,
     "end_time": "2023-07-04T19:04:53.717288",
     "exception": false,
     "start_time": "2023-07-04T19:04:53.683196",
     "status": "completed"
    },
    "tags": []
   },
   "outputs": [
    {
     "name": "stdout",
     "output_type": "stream",
     "text": [
      "       No. of readings  count\n",
      "0            Ahmedabad   2009\n",
      "1                Delhi   2009\n",
      "2               Mumbai   2009\n",
      "3            Bengaluru   2009\n",
      "4              Lucknow   2009\n",
      "5              Chennai   2009\n",
      "6            Hyderabad   2006\n",
      "7                Patna   1858\n",
      "8             Gurugram   1679\n",
      "9        Visakhapatnam   1462\n",
      "10            Amritsar   1221\n",
      "11          Jorapokhar   1169\n",
      "12              Jaipur   1114\n",
      "13  Thiruvananthapuram   1112\n",
      "14           Amaravati    951\n",
      "15        Brajrajnagar    938\n",
      "16             Talcher    925\n",
      "17             Kolkata    814\n",
      "18            Guwahati    502\n",
      "19          Coimbatore    386\n",
      "20            Shillong    310\n",
      "21          Chandigarh    304\n",
      "22              Bhopal    289\n",
      "23           Ernakulam    162\n",
      "24               Kochi    162\n",
      "25              Aizawl    113\n"
     ]
    }
   ],
   "source": [
    "city_readings = data['City'].value_counts().to_frame().reset_index().rename(columns={'index':'City Name', 'City':'No. of readings'})\n",
    "print(city_readings)"
   ]
  },
  {
   "cell_type": "code",
   "execution_count": 22,
   "id": "8c3d4e0d",
   "metadata": {
    "execution": {
     "iopub.execute_input": "2023-07-04T19:04:53.749523Z",
     "iopub.status.busy": "2023-07-04T19:04:53.749146Z",
     "iopub.status.idle": "2023-07-04T19:04:55.419990Z",
     "shell.execute_reply": "2023-07-04T19:04:55.418968Z"
    },
    "papermill": {
     "duration": 1.690347,
     "end_time": "2023-07-04T19:04:55.422882",
     "exception": false,
     "start_time": "2023-07-04T19:04:53.732535",
     "status": "completed"
    },
    "tags": []
   },
   "outputs": [
    {
     "data": {
      "text/html": [
       "        <script type=\"text/javascript\">\n",
       "        window.PlotlyConfig = {MathJaxConfig: 'local'};\n",
       "        if (window.MathJax && window.MathJax.Hub && window.MathJax.Hub.Config) {window.MathJax.Hub.Config({SVG: {font: \"STIX-Web\"}});}\n",
       "        if (typeof require !== 'undefined') {\n",
       "        require.undef(\"plotly\");\n",
       "        requirejs.config({\n",
       "            paths: {\n",
       "                'plotly': ['https://cdn.plot.ly/plotly-2.20.0.min']\n",
       "            }\n",
       "        });\n",
       "        require(['plotly'], function(Plotly) {\n",
       "            window._Plotly = Plotly;\n",
       "        });\n",
       "        }\n",
       "        </script>\n",
       "        "
      ]
     },
     "metadata": {},
     "output_type": "display_data"
    },
    {
     "data": {
      "text/html": [
       "<div>                            <div id=\"3c510e1f-d284-4343-aee5-b8202169247b\" class=\"plotly-graph-div\" style=\"height:525px; width:100%;\"></div>            <script type=\"text/javascript\">                require([\"plotly\"], function(Plotly) {                    window.PLOTLYENV=window.PLOTLYENV || {};                                    if (document.getElementById(\"3c510e1f-d284-4343-aee5-b8202169247b\")) {                    Plotly.newPlot(                        \"3c510e1f-d284-4343-aee5-b8202169247b\",                        [{\"alignmentgroup\":\"True\",\"hovertemplate\":\"City Name=%{x}<br>No. of readings=%{y}<extra></extra>\",\"legendgroup\":\"\",\"marker\":{\"color\":\"#636efa\",\"pattern\":{\"shape\":\"\"}},\"name\":\"\",\"offsetgroup\":\"\",\"orientation\":\"v\",\"showlegend\":false,\"textposition\":\"auto\",\"x\":[\"Ahmedabad\",\"Delhi\",\"Mumbai\",\"Bengaluru\",\"Lucknow\",\"Chennai\",\"Hyderabad\",\"Patna\",\"Gurugram\",\"Visakhapatnam\",\"Amritsar\",\"Jorapokhar\",\"Jaipur\",\"Thiruvananthapuram\",\"Amaravati\",\"Brajrajnagar\",\"Talcher\",\"Kolkata\",\"Guwahati\",\"Coimbatore\",\"Shillong\",\"Chandigarh\",\"Bhopal\",\"Ernakulam\",\"Kochi\",\"Aizawl\"],\"xaxis\":\"x\",\"y\":[2009,2009,2009,2009,2009,2009,2006,1858,1679,1462,1221,1169,1114,1112,951,938,925,814,502,386,310,304,289,162,162,113],\"yaxis\":\"y\",\"type\":\"bar\"}],                        {\"template\":{\"data\":{\"histogram2dcontour\":[{\"type\":\"histogram2dcontour\",\"colorbar\":{\"outlinewidth\":0,\"ticks\":\"\"},\"colorscale\":[[0.0,\"#0d0887\"],[0.1111111111111111,\"#46039f\"],[0.2222222222222222,\"#7201a8\"],[0.3333333333333333,\"#9c179e\"],[0.4444444444444444,\"#bd3786\"],[0.5555555555555556,\"#d8576b\"],[0.6666666666666666,\"#ed7953\"],[0.7777777777777778,\"#fb9f3a\"],[0.8888888888888888,\"#fdca26\"],[1.0,\"#f0f921\"]]}],\"choropleth\":[{\"type\":\"choropleth\",\"colorbar\":{\"outlinewidth\":0,\"ticks\":\"\"}}],\"histogram2d\":[{\"type\":\"histogram2d\",\"colorbar\":{\"outlinewidth\":0,\"ticks\":\"\"},\"colorscale\":[[0.0,\"#0d0887\"],[0.1111111111111111,\"#46039f\"],[0.2222222222222222,\"#7201a8\"],[0.3333333333333333,\"#9c179e\"],[0.4444444444444444,\"#bd3786\"],[0.5555555555555556,\"#d8576b\"],[0.6666666666666666,\"#ed7953\"],[0.7777777777777778,\"#fb9f3a\"],[0.8888888888888888,\"#fdca26\"],[1.0,\"#f0f921\"]]}],\"heatmap\":[{\"type\":\"heatmap\",\"colorbar\":{\"outlinewidth\":0,\"ticks\":\"\"},\"colorscale\":[[0.0,\"#0d0887\"],[0.1111111111111111,\"#46039f\"],[0.2222222222222222,\"#7201a8\"],[0.3333333333333333,\"#9c179e\"],[0.4444444444444444,\"#bd3786\"],[0.5555555555555556,\"#d8576b\"],[0.6666666666666666,\"#ed7953\"],[0.7777777777777778,\"#fb9f3a\"],[0.8888888888888888,\"#fdca26\"],[1.0,\"#f0f921\"]]}],\"heatmapgl\":[{\"type\":\"heatmapgl\",\"colorbar\":{\"outlinewidth\":0,\"ticks\":\"\"},\"colorscale\":[[0.0,\"#0d0887\"],[0.1111111111111111,\"#46039f\"],[0.2222222222222222,\"#7201a8\"],[0.3333333333333333,\"#9c179e\"],[0.4444444444444444,\"#bd3786\"],[0.5555555555555556,\"#d8576b\"],[0.6666666666666666,\"#ed7953\"],[0.7777777777777778,\"#fb9f3a\"],[0.8888888888888888,\"#fdca26\"],[1.0,\"#f0f921\"]]}],\"contourcarpet\":[{\"type\":\"contourcarpet\",\"colorbar\":{\"outlinewidth\":0,\"ticks\":\"\"}}],\"contour\":[{\"type\":\"contour\",\"colorbar\":{\"outlinewidth\":0,\"ticks\":\"\"},\"colorscale\":[[0.0,\"#0d0887\"],[0.1111111111111111,\"#46039f\"],[0.2222222222222222,\"#7201a8\"],[0.3333333333333333,\"#9c179e\"],[0.4444444444444444,\"#bd3786\"],[0.5555555555555556,\"#d8576b\"],[0.6666666666666666,\"#ed7953\"],[0.7777777777777778,\"#fb9f3a\"],[0.8888888888888888,\"#fdca26\"],[1.0,\"#f0f921\"]]}],\"surface\":[{\"type\":\"surface\",\"colorbar\":{\"outlinewidth\":0,\"ticks\":\"\"},\"colorscale\":[[0.0,\"#0d0887\"],[0.1111111111111111,\"#46039f\"],[0.2222222222222222,\"#7201a8\"],[0.3333333333333333,\"#9c179e\"],[0.4444444444444444,\"#bd3786\"],[0.5555555555555556,\"#d8576b\"],[0.6666666666666666,\"#ed7953\"],[0.7777777777777778,\"#fb9f3a\"],[0.8888888888888888,\"#fdca26\"],[1.0,\"#f0f921\"]]}],\"mesh3d\":[{\"type\":\"mesh3d\",\"colorbar\":{\"outlinewidth\":0,\"ticks\":\"\"}}],\"scatter\":[{\"fillpattern\":{\"fillmode\":\"overlay\",\"size\":10,\"solidity\":0.2},\"type\":\"scatter\"}],\"parcoords\":[{\"type\":\"parcoords\",\"line\":{\"colorbar\":{\"outlinewidth\":0,\"ticks\":\"\"}}}],\"scatterpolargl\":[{\"type\":\"scatterpolargl\",\"marker\":{\"colorbar\":{\"outlinewidth\":0,\"ticks\":\"\"}}}],\"bar\":[{\"error_x\":{\"color\":\"#2a3f5f\"},\"error_y\":{\"color\":\"#2a3f5f\"},\"marker\":{\"line\":{\"color\":\"#E5ECF6\",\"width\":0.5},\"pattern\":{\"fillmode\":\"overlay\",\"size\":10,\"solidity\":0.2}},\"type\":\"bar\"}],\"scattergeo\":[{\"type\":\"scattergeo\",\"marker\":{\"colorbar\":{\"outlinewidth\":0,\"ticks\":\"\"}}}],\"scatterpolar\":[{\"type\":\"scatterpolar\",\"marker\":{\"colorbar\":{\"outlinewidth\":0,\"ticks\":\"\"}}}],\"histogram\":[{\"marker\":{\"pattern\":{\"fillmode\":\"overlay\",\"size\":10,\"solidity\":0.2}},\"type\":\"histogram\"}],\"scattergl\":[{\"type\":\"scattergl\",\"marker\":{\"colorbar\":{\"outlinewidth\":0,\"ticks\":\"\"}}}],\"scatter3d\":[{\"type\":\"scatter3d\",\"line\":{\"colorbar\":{\"outlinewidth\":0,\"ticks\":\"\"}},\"marker\":{\"colorbar\":{\"outlinewidth\":0,\"ticks\":\"\"}}}],\"scattermapbox\":[{\"type\":\"scattermapbox\",\"marker\":{\"colorbar\":{\"outlinewidth\":0,\"ticks\":\"\"}}}],\"scatterternary\":[{\"type\":\"scatterternary\",\"marker\":{\"colorbar\":{\"outlinewidth\":0,\"ticks\":\"\"}}}],\"scattercarpet\":[{\"type\":\"scattercarpet\",\"marker\":{\"colorbar\":{\"outlinewidth\":0,\"ticks\":\"\"}}}],\"carpet\":[{\"aaxis\":{\"endlinecolor\":\"#2a3f5f\",\"gridcolor\":\"white\",\"linecolor\":\"white\",\"minorgridcolor\":\"white\",\"startlinecolor\":\"#2a3f5f\"},\"baxis\":{\"endlinecolor\":\"#2a3f5f\",\"gridcolor\":\"white\",\"linecolor\":\"white\",\"minorgridcolor\":\"white\",\"startlinecolor\":\"#2a3f5f\"},\"type\":\"carpet\"}],\"table\":[{\"cells\":{\"fill\":{\"color\":\"#EBF0F8\"},\"line\":{\"color\":\"white\"}},\"header\":{\"fill\":{\"color\":\"#C8D4E3\"},\"line\":{\"color\":\"white\"}},\"type\":\"table\"}],\"barpolar\":[{\"marker\":{\"line\":{\"color\":\"#E5ECF6\",\"width\":0.5},\"pattern\":{\"fillmode\":\"overlay\",\"size\":10,\"solidity\":0.2}},\"type\":\"barpolar\"}],\"pie\":[{\"automargin\":true,\"type\":\"pie\"}]},\"layout\":{\"autotypenumbers\":\"strict\",\"colorway\":[\"#636efa\",\"#EF553B\",\"#00cc96\",\"#ab63fa\",\"#FFA15A\",\"#19d3f3\",\"#FF6692\",\"#B6E880\",\"#FF97FF\",\"#FECB52\"],\"font\":{\"color\":\"#2a3f5f\"},\"hovermode\":\"closest\",\"hoverlabel\":{\"align\":\"left\"},\"paper_bgcolor\":\"white\",\"plot_bgcolor\":\"#E5ECF6\",\"polar\":{\"bgcolor\":\"#E5ECF6\",\"angularaxis\":{\"gridcolor\":\"white\",\"linecolor\":\"white\",\"ticks\":\"\"},\"radialaxis\":{\"gridcolor\":\"white\",\"linecolor\":\"white\",\"ticks\":\"\"}},\"ternary\":{\"bgcolor\":\"#E5ECF6\",\"aaxis\":{\"gridcolor\":\"white\",\"linecolor\":\"white\",\"ticks\":\"\"},\"baxis\":{\"gridcolor\":\"white\",\"linecolor\":\"white\",\"ticks\":\"\"},\"caxis\":{\"gridcolor\":\"white\",\"linecolor\":\"white\",\"ticks\":\"\"}},\"coloraxis\":{\"colorbar\":{\"outlinewidth\":0,\"ticks\":\"\"}},\"colorscale\":{\"sequential\":[[0.0,\"#0d0887\"],[0.1111111111111111,\"#46039f\"],[0.2222222222222222,\"#7201a8\"],[0.3333333333333333,\"#9c179e\"],[0.4444444444444444,\"#bd3786\"],[0.5555555555555556,\"#d8576b\"],[0.6666666666666666,\"#ed7953\"],[0.7777777777777778,\"#fb9f3a\"],[0.8888888888888888,\"#fdca26\"],[1.0,\"#f0f921\"]],\"sequentialminus\":[[0.0,\"#0d0887\"],[0.1111111111111111,\"#46039f\"],[0.2222222222222222,\"#7201a8\"],[0.3333333333333333,\"#9c179e\"],[0.4444444444444444,\"#bd3786\"],[0.5555555555555556,\"#d8576b\"],[0.6666666666666666,\"#ed7953\"],[0.7777777777777778,\"#fb9f3a\"],[0.8888888888888888,\"#fdca26\"],[1.0,\"#f0f921\"]],\"diverging\":[[0,\"#8e0152\"],[0.1,\"#c51b7d\"],[0.2,\"#de77ae\"],[0.3,\"#f1b6da\"],[0.4,\"#fde0ef\"],[0.5,\"#f7f7f7\"],[0.6,\"#e6f5d0\"],[0.7,\"#b8e186\"],[0.8,\"#7fbc41\"],[0.9,\"#4d9221\"],[1,\"#276419\"]]},\"xaxis\":{\"gridcolor\":\"white\",\"linecolor\":\"white\",\"ticks\":\"\",\"title\":{\"standoff\":15},\"zerolinecolor\":\"white\",\"automargin\":true,\"zerolinewidth\":2},\"yaxis\":{\"gridcolor\":\"white\",\"linecolor\":\"white\",\"ticks\":\"\",\"title\":{\"standoff\":15},\"zerolinecolor\":\"white\",\"automargin\":true,\"zerolinewidth\":2},\"scene\":{\"xaxis\":{\"backgroundcolor\":\"#E5ECF6\",\"gridcolor\":\"white\",\"linecolor\":\"white\",\"showbackground\":true,\"ticks\":\"\",\"zerolinecolor\":\"white\",\"gridwidth\":2},\"yaxis\":{\"backgroundcolor\":\"#E5ECF6\",\"gridcolor\":\"white\",\"linecolor\":\"white\",\"showbackground\":true,\"ticks\":\"\",\"zerolinecolor\":\"white\",\"gridwidth\":2},\"zaxis\":{\"backgroundcolor\":\"#E5ECF6\",\"gridcolor\":\"white\",\"linecolor\":\"white\",\"showbackground\":true,\"ticks\":\"\",\"zerolinecolor\":\"white\",\"gridwidth\":2}},\"shapedefaults\":{\"line\":{\"color\":\"#2a3f5f\"}},\"annotationdefaults\":{\"arrowcolor\":\"#2a3f5f\",\"arrowhead\":0,\"arrowwidth\":1},\"geo\":{\"bgcolor\":\"white\",\"landcolor\":\"#E5ECF6\",\"subunitcolor\":\"white\",\"showland\":true,\"showlakes\":true,\"lakecolor\":\"white\"},\"title\":{\"x\":0.05},\"mapbox\":{\"style\":\"light\"}}},\"xaxis\":{\"anchor\":\"y\",\"domain\":[0.0,1.0],\"title\":{\"text\":\"City Name\"}},\"yaxis\":{\"anchor\":\"x\",\"domain\":[0.0,1.0],\"title\":{\"text\":\"No. of readings\"}},\"legend\":{\"tracegroupgap\":0},\"margin\":{\"t\":60},\"barmode\":\"relative\"},                        {\"responsive\": true}                    ).then(function(){\n",
       "                            \n",
       "var gd = document.getElementById('3c510e1f-d284-4343-aee5-b8202169247b');\n",
       "var x = new MutationObserver(function (mutations, observer) {{\n",
       "        var display = window.getComputedStyle(gd).display;\n",
       "        if (!display || display === 'none') {{\n",
       "            console.log([gd, 'removed!']);\n",
       "            Plotly.purge(gd);\n",
       "            observer.disconnect();\n",
       "        }}\n",
       "}});\n",
       "\n",
       "// Listen for the removal of the full notebook cells\n",
       "var notebookContainer = gd.closest('#notebook-container');\n",
       "if (notebookContainer) {{\n",
       "    x.observe(notebookContainer, {childList: true});\n",
       "}}\n",
       "\n",
       "// Listen for the clearing of the current output cell\n",
       "var outputEl = gd.closest('.output');\n",
       "if (outputEl) {{\n",
       "    x.observe(outputEl, {childList: true});\n",
       "}}\n",
       "\n",
       "                        })                };                });            </script>        </div>"
      ]
     },
     "metadata": {},
     "output_type": "display_data"
    }
   ],
   "source": [
    "fig = px.bar(city_readings, x=\"City Name\", y=\"No. of readings\")\n",
    "fig.show()"
   ]
  }
 ],
 "metadata": {
  "kernelspec": {
   "display_name": "Python 3",
   "language": "python",
   "name": "python3"
  },
  "language_info": {
   "codemirror_mode": {
    "name": "ipython",
    "version": 3
   },
   "file_extension": ".py",
   "mimetype": "text/x-python",
   "name": "python",
   "nbconvert_exporter": "python",
   "pygments_lexer": "ipython3",
   "version": "3.11.0"
  },
  "papermill": {
   "default_parameters": {},
   "duration": 35.316923,
   "end_time": "2023-07-04T19:04:56.563544",
   "environment_variables": {},
   "exception": null,
   "input_path": "__notebook__.ipynb",
   "output_path": "__notebook__.ipynb",
   "parameters": {},
   "start_time": "2023-07-04T19:04:21.246621",
   "version": "2.4.0"
  }
 },
 "nbformat": 4,
 "nbformat_minor": 5
}
